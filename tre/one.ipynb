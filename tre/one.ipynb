{
 "cells": [
  {
   "cell_type": "code",
   "execution_count": null,
   "id": "ec9fe43b",
   "metadata": {},
   "outputs": [],
   "source": [
    "# Binary Search Tree\n",
    "\n",
    "# left subtree is less than or equal to parents value\n",
    "\n",
    "# right subtreee the value is greater than its parent node\n",
    "\n",
    "\n",
    "\n",
    "# operations\n",
    "\n",
    "\n",
    "# Creation , Inserton, Delete, Seatch , Traverse, Deletion\n",
    "\n",
    "\n",
    "class BinarySearchTreeNode:\n",
    "    def __init__(self,data):\n",
    "        self.data = data\n",
    "        self.leftChild = None\n",
    "        self.rightChild =None\n",
    "    \n",
    "\n",
    "\n",
    "def insertNode(rootNode, nodeValue):\n",
    "        if rootNode.data is None:\n",
    "            rootNode.data = nodeValue\n",
    "        elif nodeValue<=rootNode.data:\n",
    "            if rootNode.leftChild is None:\n",
    "                rootNode.leftChild = BinarySearchTreeNode(nodeValue)\n",
    "            else:\n",
    "                insertNode(rootNode.leftChild, nodeValue)\n",
    "        else:\n",
    "            if rootNode.rightChild is None:\n",
    "                rootNode.rightChild = BinarySearchTreeNode(nodeValue)\n",
    "            else:\n",
    "                insertNode(rootNode.rightChild, nodeValue)\n",
    "        \n",
    "\n",
    "    \n",
    "\n",
    "newBST = BinarySearchTreeNode(None)\n",
    "\n",
    "\n",
    "\n",
    "\n",
    "# Creation --> O(1) , O(1).  \n",
    "\n",
    "\n",
    "\n",
    "\n",
    "\n",
    "        \n",
    "\n",
    "\n",
    "\n",
    "\n"
   ]
  },
  {
   "cell_type": "code",
   "execution_count": 4,
   "id": "5ada5ad5",
   "metadata": {},
   "outputs": [
    {
     "name": "stdout",
     "output_type": "stream",
     "text": [
      "The Value is Found\n"
     ]
    }
   ],
   "source": [
    "class BinarySearchTreeNode:\n",
    "    def __init__(self, data):\n",
    "        self.data = data\n",
    "        self.leftChild = None\n",
    "        self.rightChild = None\n",
    "\n",
    "def insertNode(rootNode, nodeValue):\n",
    "    if rootNode.data is None:\n",
    "        rootNode.data = nodeValue\n",
    "    elif nodeValue <= rootNode.data:\n",
    "        if rootNode.leftChild is None:\n",
    "            rootNode.leftChild = BinarySearchTreeNode(nodeValue)\n",
    "        else:\n",
    "            insertNode(rootNode.leftChild, nodeValue)\n",
    "    else:\n",
    "        if rootNode.rightChild is None:\n",
    "            rootNode.rightChild = BinarySearchTreeNode(nodeValue)\n",
    "        else:\n",
    "            insertNode(rootNode.rightChild, nodeValue)\n",
    "\n",
    "# Create root with no value\n",
    "newBST = BinarySearchTreeNode(None)\n",
    "\n",
    "\n",
    "\n",
    "\n",
    "# Insertion\n",
    "\n",
    "insertNode(newBST, 50)\n",
    "insertNode(newBST, 30)\n",
    "insertNode(newBST, 70)\n",
    "insertNode(newBST, 20)\n",
    "insertNode(newBST, 40)\n",
    "insertNode(newBST, 60)\n",
    "insertNode(newBST, 80)\n",
    "\n",
    "\n",
    "\n",
    "\n",
    "def inorderTraversal(rootNode):\n",
    "    if not rootNode:\n",
    "        return\n",
    "    \n",
    "    inorderTraversal(rootNode.leftChild)\n",
    "    print(rootNode.data, end=\" \")\n",
    "    inorderTraversal(rootNode.rightChild)\n",
    "\n",
    "# inorderTraversal(newBST)\n",
    "\n",
    "\n",
    "\n",
    "def serachNode(rootNode, nodeValue):\n",
    "    if not rootNode:\n",
    "        return \n",
    "    \n",
    "    if rootNode.data == nodeValue:\n",
    "        print(\"The Value is Found\")\n",
    "\n",
    "    elif nodeValue < rootNode.data:\n",
    "        if rootNode.leftChild.data == nodeValue:\n",
    "            print(\"the Va;ue is Found\")\n",
    "        else:\n",
    "            serachNode(rootNode.leftChild, nodeValue)\n",
    "    else:\n",
    "        if rootNode.rightChild.data == nodeValue:\n",
    "            print(\"The Value is Found\")\n",
    "        else:\n",
    "            serachNode(rootNode.rightChild, nodeValue)\n",
    "    \n",
    "\n",
    "\n",
    "serachNode(newBST ,80)\n",
    "\n",
    "# Preorder --> pre , inorder, postorder, levelOrder\n",
    "\n",
    "\n",
    "# PreOrder -->  root, left, right\n",
    "\n",
    "# InOrder -->left, root, right\n",
    "\n",
    "# PostOrder --> \n",
    "\n",
    "\n",
    "\n",
    "\n"
   ]
  },
  {
   "cell_type": "code",
   "execution_count": 5,
   "id": "65a42f1b",
   "metadata": {},
   "outputs": [
    {
     "name": "stdout",
     "output_type": "stream",
     "text": [
      "50 30 20 40 70 60 80 "
     ]
    }
   ],
   "source": [
    "\n",
    "def preOrder(rootNode):\n",
    "    if not rootNode:\n",
    "        return\n",
    "    print(rootNode.data, end=\" \")\n",
    "    preOrder(rootNode.leftChild)\n",
    "    preOrder(rootNode.rightChild)\n",
    "\n",
    "\n",
    "\n",
    "preOrder(newBST)\n"
   ]
  },
  {
   "cell_type": "code",
   "execution_count": 6,
   "id": "dc1456ed",
   "metadata": {},
   "outputs": [
    {
     "name": "stdout",
     "output_type": "stream",
     "text": [
      "20 40 30 60 80 70 50 "
     ]
    }
   ],
   "source": [
    "def postOrder(rootNode):\n",
    "    if not rootNode:\n",
    "        return \n",
    "    postOrder(rootNode.leftChild)\n",
    "    postOrder(rootNode.rightChild)\n",
    "    print(rootNode.data, end=\" \")\n",
    "\n",
    "\n",
    "postOrder(newBST)"
   ]
  },
  {
   "cell_type": "code",
   "execution_count": 7,
   "id": "53c2adcd",
   "metadata": {},
   "outputs": [
    {
     "name": "stdout",
     "output_type": "stream",
     "text": [
      "50 30 70 20 40 60 80 "
     ]
    }
   ],
   "source": [
    "from collections import deque\n",
    "\n",
    "\n",
    "\n",
    "# print(queue.popleft())\n",
    "def levelOrder(rootNode):\n",
    "    if not rootNode:\n",
    "        return \n",
    "    queue = deque([rootNode])\n",
    "    while queue:\n",
    "        current_node = queue.popleft()\n",
    "        print(current_node.data, end =\" \")\n",
    "\n",
    "        if current_node.leftChild:\n",
    "            queue.append(current_node.leftChild)\n",
    "        if current_node.rightChild:\n",
    "            queue.append(current_node.rightChild)\n",
    "\n",
    "levelOrder(newBST)\n",
    "    "
   ]
  },
  {
   "cell_type": "code",
   "execution_count": 8,
   "id": "151000c8",
   "metadata": {},
   "outputs": [
    {
     "name": "stdout",
     "output_type": "stream",
     "text": [
      "The Value is Found\n"
     ]
    }
   ],
   "source": [
    "# search OF BST\n",
    "\n",
    "\n",
    "# left is eaual or smaller and rightare larger \n",
    "\n",
    "\n",
    "\n",
    "def serachNode(rootNode, nodeValue):\n",
    "    if not rootNode:\n",
    "        return \n",
    "    \n",
    "    if rootNode.data == nodeValue:\n",
    "        print(\"The Value is Found\")\n",
    "\n",
    "    elif nodeValue < rootNode.data:\n",
    "        if rootNode.leftChild.data == nodeValue:\n",
    "            print(\"the Va;ue is Found\")\n",
    "        else:\n",
    "            serachNode(rootNode.leftChild, nodeValue)\n",
    "    else:\n",
    "        if rootNode.rightChild.data == nodeValue:\n",
    "            print(\"The Value is Found\")\n",
    "        else:\n",
    "            serachNode(rootNode.rightChild, nodeValue)\n",
    "    \n",
    "\n",
    "\n",
    "serachNode(newBST ,80)"
   ]
  },
  {
   "cell_type": "code",
   "execution_count": null,
   "id": "d5d17bd7",
   "metadata": {},
   "outputs": [],
   "source": [
    "# delete \n",
    "\n",
    "\n",
    "# The node to be deleted is a leaf node\n",
    "\n",
    "\n",
    "# if it has a child \n",
    "\n",
    "\n",
    "# if it has two children\n",
    "\n",
    "# successor --> delete successor "
   ]
  }
 ],
 "metadata": {
  "kernelspec": {
   "display_name": "Python 3",
   "language": "python",
   "name": "python3"
  },
  "language_info": {
   "codemirror_mode": {
    "name": "ipython",
    "version": 3
   },
   "file_extension": ".py",
   "mimetype": "text/x-python",
   "name": "python",
   "nbconvert_exporter": "python",
   "pygments_lexer": "ipython3",
   "version": "3.12.1"
  }
 },
 "nbformat": 4,
 "nbformat_minor": 5
}
