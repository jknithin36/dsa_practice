{
 "cells": [
  {
   "cell_type": "code",
   "execution_count": 2,
   "id": "63aff5ab",
   "metadata": {},
   "outputs": [
    {
     "name": "stdout",
     "output_type": "stream",
     "text": [
      "[0, 1]\n"
     ]
    }
   ],
   "source": [
    "def two_sum(arr, target):\n",
    "    left = 0\n",
    "    right = len(arr) -1\n",
    "\n",
    "    while left < right:\n",
    "        if arr[left] + arr[right] == target:\n",
    "            return [left, right]\n",
    "        elif arr[left] + arr[right] < target:\n",
    "            left +=1\n",
    "        else:\n",
    "            right -=1\n",
    "\n",
    "\n",
    "\n",
    "print(two_sum([2,7,11,15], 9))"
   ]
  },
  {
   "cell_type": "code",
   "execution_count": null,
   "id": "9706b2e9",
   "metadata": {},
   "outputs": [],
   "source": []
  },
  {
   "cell_type": "code",
   "execution_count": null,
   "id": "422c7da4",
   "metadata": {},
   "outputs": [],
   "source": [
    "def valid_paranthasis(str):\n",
    "    valid = {\"{}\", \"[]\", '()'}\n",
    "    stack=[]\n",
    "\n",
    "    for i in str:\n",
    "        pass\n",
    "\n"
   ]
  },
  {
   "cell_type": "code",
   "execution_count": 4,
   "id": "87560657",
   "metadata": {},
   "outputs": [
    {
     "name": "stdout",
     "output_type": "stream",
     "text": [
      "[0, 1]\n"
     ]
    }
   ],
   "source": [
    "# two_sum (hashing)\n",
    "\n",
    "def two_sum(arr, target):\n",
    "    seen ={}\n",
    "    for i ,x in enumerate(arr):\n",
    "        needed = target - x\n",
    "        if needed in seen:\n",
    "            return [seen[needed] , i]\n",
    "        else:\n",
    "            seen[x] = i\n",
    "    return []\n",
    "\n",
    "print(two_sum([2,7,11,15], 9))"
   ]
  },
  {
   "cell_type": "code",
   "execution_count": null,
   "id": "8d8e40bc",
   "metadata": {},
   "outputs": [],
   "source": [
    "# Longest Substring without repeaing characters\n",
    "\n",
    "def length_of_longest(str):\n",
    "    last = {}\n",
    "    left =0\n",
    "    best =0\n",
    "\n",
    "    for right, ch in enumerate(s):\n",
    "        if ch in last and last[ch]>= left:\n",
    "            left = last[ch]+1\n",
    "        last[ch] = right\n",
    "        best = max(best , right -left +1)\n",
    "    return best\n",
    "\n",
    "\n",
    "# hjhjh\n"
   ]
  },
  {
   "cell_type": "code",
   "execution_count": 1,
   "id": "7869fedd",
   "metadata": {},
   "outputs": [
    {
     "name": "stdout",
     "output_type": "stream",
     "text": [
      "[0, 1]\n"
     ]
    }
   ],
   "source": [
    "def sum(arr, target):\n",
    "    for i in range(len(arr)):\n",
    "        for j in range(i +1, len(arr)):\n",
    "            if arr[i] + arr[j] == target:\n",
    "                return [i,j]\n",
    "    return []\n",
    "\n",
    "\n",
    "print(sum([2,7,11,15], 9))\n"
   ]
  },
  {
   "cell_type": "code",
   "execution_count": 2,
   "id": "44faf795",
   "metadata": {},
   "outputs": [
    {
     "name": "stdout",
     "output_type": "stream",
     "text": [
      "cba\n"
     ]
    }
   ],
   "source": [
    "def reverse(str):\n",
    "    rev = \"\"\n",
    "\n",
    "    for i in range(len(str)-1, -1, -1):\n",
    "        rev +=str[i]\n",
    "    return rev\n",
    "\n",
    "\n",
    "print(reverse(\"abc\"))"
   ]
  },
  {
   "cell_type": "code",
   "execution_count": 3,
   "id": "c75daa0f",
   "metadata": {},
   "outputs": [
    {
     "name": "stdout",
     "output_type": "stream",
     "text": [
      "True\n"
     ]
    }
   ],
   "source": [
    "def palindrome_check(str):\n",
    "    rev =\"\"\n",
    "\n",
    "    for i in range(len(str)-1, -1, -1):\n",
    "        rev += str[i]\n",
    "\n",
    "    return str == rev\n",
    "\n",
    "print(palindrome_check(\"level\"))"
   ]
  },
  {
   "cell_type": "code",
   "execution_count": 4,
   "id": "0247386d",
   "metadata": {},
   "outputs": [
    {
     "name": "stdout",
     "output_type": "stream",
     "text": [
      "3\n"
     ]
    }
   ],
   "source": [
    "def max_element(arr):\n",
    "    max = arr[0]\n",
    "\n",
    "    for i in range(1, len(arr)):\n",
    "        if arr[i] > max:\n",
    "            max = arr[i]\n",
    "    return max\n",
    "\n",
    "\n",
    "print(max_element([1,2,3]))"
   ]
  },
  {
   "cell_type": "code",
   "execution_count": 7,
   "id": "336a86a3",
   "metadata": {},
   "outputs": [
    {
     "name": "stdout",
     "output_type": "stream",
     "text": [
      "120\n"
     ]
    }
   ],
   "source": [
    "def factorial(n):\n",
    "    ans = 1\n",
    "\n",
    "    for i in range(1, n+1):\n",
    "        ans *= i\n",
    "    return ans\n",
    "\n",
    "\n",
    "\n",
    "print(factorial(5))"
   ]
  },
  {
   "cell_type": "code",
   "execution_count": null,
   "id": "496bf80b",
   "metadata": {},
   "outputs": [],
   "source": [
    "def fib(n):\n",
    "    if n <=1:\n",
    "        return n \n",
    "    a, b = 0,1\n",
    "    for _ in range(2, n+1):\n",
    "        a, b = b , a+b\n",
    "    return b\n",
    "\n"
   ]
  },
  {
   "cell_type": "code",
   "execution_count": 8,
   "id": "c1e6f3eb",
   "metadata": {},
   "outputs": [
    {
     "name": "stdout",
     "output_type": "stream",
     "text": [
      "2\n"
     ]
    }
   ],
   "source": [
    "def count_vowels(str):\n",
    "    vowels = set(\"aeiouAEIOU\")\n",
    "    count =0\n",
    "\n",
    "\n",
    "    for char in str:\n",
    "        if char in vowels:\n",
    "            count +=1\n",
    "    return count\n",
    "\n",
    "print(count_vowels('hello'))"
   ]
  },
  {
   "cell_type": "code",
   "execution_count": 9,
   "id": "4b899723",
   "metadata": {},
   "outputs": [
    {
     "name": "stdout",
     "output_type": "stream",
     "text": [
      "3\n"
     ]
    }
   ],
   "source": [
    "def linear_search(nums, target):\n",
    "    for i,x in enumerate(nums):\n",
    "        if x == target:\n",
    "            return i\n",
    "    return -1\n",
    "\n",
    "\n",
    "print(linear_search([1,2,3,4], 4))\n"
   ]
  },
  {
   "cell_type": "code",
   "execution_count": 11,
   "id": "2ae1692d",
   "metadata": {},
   "outputs": [
    {
     "name": "stdout",
     "output_type": "stream",
     "text": [
      "10\n"
     ]
    }
   ],
   "source": [
    "def sum_of_digits(n):\n",
    "    sum = 0\n",
    "    number = abs(n)\n",
    "\n",
    "    while number>0:\n",
    "        last = number % 10\n",
    "        sum +=last\n",
    "        number = number //10\n",
    "\n",
    "    return sum\n",
    "\n",
    "print(sum_of_digits(1234))"
   ]
  }
 ],
 "metadata": {
  "kernelspec": {
   "display_name": "Python 3",
   "language": "python",
   "name": "python3"
  },
  "language_info": {
   "codemirror_mode": {
    "name": "ipython",
    "version": 3
   },
   "file_extension": ".py",
   "mimetype": "text/x-python",
   "name": "python",
   "nbconvert_exporter": "python",
   "pygments_lexer": "ipython3",
   "version": "3.12.1"
  }
 },
 "nbformat": 4,
 "nbformat_minor": 5
}
