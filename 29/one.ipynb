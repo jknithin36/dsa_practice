{
 "cells": [
  {
   "cell_type": "code",
   "execution_count": null,
   "id": "99bb5c01",
   "metadata": {},
   "outputs": [],
   "source": [
    "# Find maximum sum of subarray of size k in an array.\n",
    "# Input: nums = [1,5,4,2,9,9,9], k = 3\n",
    "# Output: 15\n",
    "\n",
    "\n",
    "# def max_sum(arr, length):\n",
    "#     max_sum = 0\n",
    "#     for i in range\n",
    "\n",
    "\n",
    "\n"
   ]
  },
  {
   "cell_type": "code",
   "execution_count": 7,
   "id": "51a85e37",
   "metadata": {},
   "outputs": [
    {
     "name": "stdout",
     "output_type": "stream",
     "text": [
      "([3, 4, 2], [4, 6, 5])\n"
     ]
    }
   ],
   "source": [
    "# Input: l1 = [2,4,3], l2 = [5,6,4]\n",
    "# Output: [7,0,8]\n",
    "# Explanation: 342 + 465 = 807.\n",
    "\n",
    "\n",
    "def add_two(l1,l2):\n",
    "    list_one =[]\n",
    "    for i in l1:\n",
    "        list_one.insert(0, i)\n",
    "    list_two = []\n",
    "\n",
    "    for j in l2:\n",
    "        list_two.insert(0,j)\n",
    "\n",
    "    value1 =0\n",
    "    value2 =0\n",
    "\n",
    "    for value in list_one:\n",
    "        value1 += value\n",
    "    for val in list_two:\n",
    "        value2 += val\n",
    "\n",
    "    result = value1 + value2\n",
    "\n",
    "\n",
    "    return list_one, list_two\n",
    "\n",
    "\n",
    "\n",
    "\n",
    "print(add_two([2,4,3], [5,6,4]))"
   ]
  },
  {
   "cell_type": "code",
   "execution_count": 10,
   "id": "74d915a4",
   "metadata": {},
   "outputs": [
    {
     "name": "stdout",
     "output_type": "stream",
     "text": [
      "[3, 2, 1]\n"
     ]
    }
   ],
   "source": [
    "l1 = [1,2,3]\n",
    "\n",
    "print(list(reversed(l1)))"
   ]
  },
  {
   "cell_type": "code",
   "execution_count": 11,
   "id": "58549e0d",
   "metadata": {},
   "outputs": [
    {
     "name": "stdout",
     "output_type": "stream",
     "text": [
      "[7, 0, 8]\n"
     ]
    }
   ],
   "source": [
    "def add_two(l1,l2):\n",
    "    list_one = list(reversed(l1))\n",
    "    list_two = list(reversed(l2))\n",
    "\n",
    "\n",
    "    value1 = int(\"\".join(map(str, list_one)))\n",
    "    value2 = int(\"\".join(map(str, list_two)))\n",
    "\n",
    "\n",
    "    result =value1+ value2\n",
    "\n",
    "\n",
    "    return [int(digit) for digit in str(result)][::-1]\n",
    "\n",
    "print(add_two([2, 4, 3], [5, 6, 4]))  # Output: [7, 0, 8]\n"
   ]
  }
 ],
 "metadata": {
  "kernelspec": {
   "display_name": "Python 3",
   "language": "python",
   "name": "python3"
  },
  "language_info": {
   "codemirror_mode": {
    "name": "ipython",
    "version": 3
   },
   "file_extension": ".py",
   "mimetype": "text/x-python",
   "name": "python",
   "nbconvert_exporter": "python",
   "pygments_lexer": "ipython3",
   "version": "3.12.1"
  }
 },
 "nbformat": 4,
 "nbformat_minor": 5
}
