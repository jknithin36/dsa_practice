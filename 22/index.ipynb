{
 "cells": [
  {
   "cell_type": "code",
   "execution_count": 5,
   "id": "015f6292",
   "metadata": {},
   "outputs": [
    {
     "name": "stdout",
     "output_type": "stream",
     "text": [
      "6\n",
      "-2\n"
     ]
    }
   ],
   "source": [
    "# question - find the largest element in the array\n",
    "\n",
    "\n",
    "def largest_element(arr):\n",
    "    if not arr:\n",
    "        return\n",
    "    \n",
    "    result = arr[0]\n",
    "\n",
    "    for i in arr:\n",
    "        if i > result:\n",
    "            result = i\n",
    "    \n",
    "\n",
    "    return result\n",
    "\n",
    "\n",
    "\n",
    "\n",
    "print(largest_element([1,2,3,4,5,6]))\n",
    "print(largest_element([-5, -2, -10]))        \n"
   ]
  },
  {
   "cell_type": "code",
   "execution_count": 1,
   "id": "45c5a0e9",
   "metadata": {},
   "outputs": [
    {
     "name": "stdout",
     "output_type": "stream",
     "text": [
      "Odd\n"
     ]
    }
   ],
   "source": [
    "def odd_or_even(num):\n",
    "    if not num:\n",
    "        return\n",
    "    \n",
    "    if(num % 2 ==0):\n",
    "        return(\"Even\")\n",
    "    else:\n",
    "        return(\"Odd\")\n",
    "\n",
    "\n",
    "print(odd_or_even(123))    \n",
    "    "
   ]
  },
  {
   "cell_type": "code",
   "execution_count": null,
   "id": "b4d39fae",
   "metadata": {},
   "outputs": [],
   "source": []
  },
  {
   "cell_type": "code",
   "execution_count": null,
   "id": "72cb572c",
   "metadata": {},
   "outputs": [],
   "source": []
  },
  {
   "cell_type": "code",
   "execution_count": 3,
   "id": "07d084da",
   "metadata": {},
   "outputs": [
    {
     "name": "stdout",
     "output_type": "stream",
     "text": [
      "6\n"
     ]
    }
   ],
   "source": [
    "def larest_number(arr):\n",
    "    return max(arr)\n",
    "\n",
    "\n",
    "print(larest_number([1,2,3,4,5,6]))"
   ]
  },
  {
   "cell_type": "code",
   "execution_count": 8,
   "id": "e8c35372",
   "metadata": {},
   "outputs": [
    {
     "name": "stdout",
     "output_type": "stream",
     "text": [
      "4\n",
      "-5\n"
     ]
    }
   ],
   "source": [
    "def second_largest(arr):\n",
    "    if not arr:\n",
    "        return \n",
    "    \n",
    "    largest = arr[0]\n",
    "    second = float(\"-inf\")\n",
    "\n",
    "\n",
    "    for i in arr[1:]:\n",
    "        if i > largest:\n",
    "            second = largest\n",
    "            largest = i\n",
    "        elif i < largest and (second is None or second < i):\n",
    "            second = i\n",
    "    \n",
    "    return second\n",
    "\n",
    "print(second_largest([1,2,3,4,5]))\n",
    "print(second_largest([-5, -2, -10]))       \n",
    "\n",
    "\n",
    "\n"
   ]
  },
  {
   "cell_type": "code",
   "execution_count": null,
   "id": "de49966e",
   "metadata": {},
   "outputs": [],
   "source": []
  },
  {
   "cell_type": "code",
   "execution_count": 10,
   "id": "849f14b2",
   "metadata": {},
   "outputs": [
    {
     "name": "stdout",
     "output_type": "stream",
     "text": [
      "4\n",
      "-5\n"
     ]
    }
   ],
   "source": [
    "def second_largest(arr):\n",
    "    if not arr:\n",
    "        return\n",
    "    \n",
    "    arr.sort()\n",
    "\n",
    "    return arr[-2]\n",
    "\n",
    "print(second_largest([1,2,3,4,5]))\n",
    "\n",
    "print(second_largest([-5, -2, -10]))       \n",
    "\n"
   ]
  },
  {
   "cell_type": "code",
   "execution_count": 1,
   "id": "a7f6cab6",
   "metadata": {},
   "outputs": [
    {
     "name": "stdout",
     "output_type": "stream",
     "text": [
      "1\n",
      "2\n",
      "3\n",
      "4\n",
      "5\n"
     ]
    }
   ],
   "source": [
    "# loop through array\n",
    "\n",
    "a = [1,2,3,4,5]\n",
    "\n",
    "\n",
    "for i in a:\n",
    "    print(i)"
   ]
  },
  {
   "cell_type": "code",
   "execution_count": 2,
   "id": "7e003cdd",
   "metadata": {},
   "outputs": [
    {
     "name": "stdout",
     "output_type": "stream",
     "text": [
      "3\n"
     ]
    }
   ],
   "source": [
    "# count the length of arr without len(arr)\n",
    "\n",
    "\n",
    "a = [1,2,44,5,667,789]\n",
    "\n",
    "\n",
    "def length(a):\n",
    "    len = 0\n",
    "\n",
    "    for i in a:\n",
    "        len +=1\n",
    "    return len\n",
    "\n",
    "print(length([1,2,4]))\n",
    "\n",
    "\n",
    "\n"
   ]
  },
  {
   "cell_type": "code",
   "execution_count": 1,
   "id": "a4d3ae7a",
   "metadata": {},
   "outputs": [
    {
     "name": "stdout",
     "output_type": "stream",
     "text": [
      "3\n"
     ]
    }
   ],
   "source": [
    "def count_num_of_digits(num):\n",
    "    if not num:\n",
    "        return \n",
    "    \n",
    "    return len(str(num))\n",
    "\n",
    "\n",
    "print(count_num_of_digits(124))"
   ]
  },
  {
   "cell_type": "code",
   "execution_count": 2,
   "id": "e187e184",
   "metadata": {},
   "outputs": [
    {
     "name": "stdout",
     "output_type": "stream",
     "text": [
      "3\n"
     ]
    }
   ],
   "source": [
    "def count_numbers(num):\n",
    "    if not num:\n",
    "        return\n",
    "    \n",
    "    result = 0\n",
    "    i =num\n",
    "\n",
    "    while i:\n",
    "        result +=1\n",
    "        i //=10\n",
    "\n",
    "    return result\n",
    "\n",
    "print(count_numbers(123))"
   ]
  },
  {
   "cell_type": "code",
   "execution_count": 2,
   "id": "872bd877",
   "metadata": {},
   "outputs": [
    {
     "name": "stdout",
     "output_type": "stream",
     "text": [
      "4\n"
     ]
    }
   ],
   "source": [
    "# [12, 345, 2, 6, 7896]\n",
    "\n",
    "\n",
    "def count_even(arr):\n",
    "\n",
    "    if not arr:\n",
    "        return\n",
    "    \n",
    "    result = 0\n",
    "    \n",
    "    for i in arr:\n",
    "        if i % 2 ==0:\n",
    "            result +=1\n",
    "\n",
    "    return result\n",
    "\n",
    "\n",
    "print(count_even([12, 345, 2, 6, 7896]))"
   ]
  },
  {
   "cell_type": "code",
   "execution_count": 2,
   "id": "cb9af83e",
   "metadata": {},
   "outputs": [
    {
     "name": "stdout",
     "output_type": "stream",
     "text": [
      "[[1, 2, 3], [4, 5, 6], [7, 8, 9]]\n",
      "[[3, 2, 1], [6, 5, 4], [9, 8, 7]]\n"
     ]
    }
   ],
   "source": [
    "def matrix():\n",
    "    pass\n",
    "\n",
    "\n",
    "\n",
    "M = [\n",
    "    [1, 2, 3],\n",
    "    [4, 5, 6],\n",
    "    [7, 8, 9],\n",
    "]\n",
    "\n",
    "def flip_horizontal(arrMatrix):\n",
    "    return [row[::-1] for row in arrMatrix]\n",
    "\n",
    "print(M)\n",
    "\n",
    "\n",
    "print(flip_horizontal(M))"
   ]
  }
 ],
 "metadata": {
  "kernelspec": {
   "display_name": "Python 3",
   "language": "python",
   "name": "python3"
  },
  "language_info": {
   "codemirror_mode": {
    "name": "ipython",
    "version": 3
   },
   "file_extension": ".py",
   "mimetype": "text/x-python",
   "name": "python",
   "nbconvert_exporter": "python",
   "pygments_lexer": "ipython3",
   "version": "3.12.1"
  }
 },
 "nbformat": 4,
 "nbformat_minor": 5
}
