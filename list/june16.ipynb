{
 "cells": [
  {
   "cell_type": "code",
   "execution_count": 3,
   "id": "d0240727",
   "metadata": {},
   "outputs": [
    {
     "name": "stdout",
     "output_type": "stream",
     "text": [
      "[5, 4, 3, 2, 1]\n"
     ]
    }
   ],
   "source": [
    "# Reverse Array [GeeksforGeeks / LeetCode #344 (Reverse String)]\n",
    "\n",
    "\n",
    "def reverse_array(arr):\n",
    "    if len(arr) ==0:\n",
    "        return []\n",
    "    else:\n",
    "        n = len(arr)\n",
    "        left =0\n",
    "        right =len(arr)-1\n",
    "\n",
    "        while  left  < right:\n",
    "            arr[left], arr[right] = arr[right], arr[left]\n",
    "            left+=1\n",
    "            right -=1\n",
    "\n",
    "    return arr\n",
    "\n",
    "\n",
    "\n",
    "print(reverse_array([1,2,3,4,5]))\n",
    "         \n",
    "            \n",
    "\n",
    "\n",
    "\n"
   ]
  },
  {
   "cell_type": "code",
   "execution_count": 5,
   "id": "74847f15",
   "metadata": {},
   "outputs": [
    {
     "name": "stdout",
     "output_type": "stream",
     "text": [
      "[1, 3, 12, 0, 0]\n"
     ]
    }
   ],
   "source": [
    "def move_zeroes_to_end(arr):\n",
    "    n = len(arr)\n",
    "\n",
    "    for i in range(n):\n",
    "        if arr[i] == 0:\n",
    "            arr.remove(arr[i])\n",
    "            arr.append(0)\n",
    "    return arr\n",
    "\n",
    "\n",
    "\n",
    "print(move_zeroes_to_end([0,1,0,3,12]))"
   ]
  },
  {
   "cell_type": "code",
   "execution_count": 6,
   "id": "9d034ff5",
   "metadata": {},
   "outputs": [
    {
     "name": "stdout",
     "output_type": "stream",
     "text": [
      "[1, 3, 12, 0, 0]\n"
     ]
    }
   ],
   "source": [
    "def move_zeroes(arr):\n",
    "    n = len(arr)\n",
    "    last_non_zero=0\n",
    "    for i in range(n):\n",
    "        if arr[i] !=0:\n",
    "            arr[last_non_zero], arr[i] = arr[i], arr[last_non_zero]\n",
    "            last_non_zero+=1\n",
    "    \n",
    "    return arr\n",
    "\n",
    "\n",
    "print(move_zeroes([0,1,0,3,12]))"
   ]
  },
  {
   "cell_type": "code",
   "execution_count": 11,
   "id": "a1f69930",
   "metadata": {},
   "outputs": [
    {
     "name": "stdout",
     "output_type": "stream",
     "text": [
      "True\n",
      "False\n"
     ]
    }
   ],
   "source": [
    "# Input: \"A man, a plan, a canal: Panama\" → Output: true.\n",
    "\n",
    "\n",
    "def isValidPaindrome(str):\n",
    "   \n",
    "    char =\"\"\n",
    "\n",
    "    for i in str:\n",
    "        if i.isalpha():\n",
    "            char+=i.lower()\n",
    "    left =0\n",
    "    right = len(char)-1\n",
    "\n",
    "    while left < right:\n",
    "        if char[left] != char[right]:\n",
    "            return False\n",
    "        left +=1\n",
    "        right-=1\n",
    "\n",
    "    return True\n",
    "\n",
    "print(isValidPaindrome(\"A man, a plan, a canal: Panama\"))\n",
    "print(isValidPaindrome(\"A man, a plan, a canall: Panama\"))\n",
    "\n"
   ]
  }
 ],
 "metadata": {
  "kernelspec": {
   "display_name": "Python 3",
   "language": "python",
   "name": "python3"
  },
  "language_info": {
   "codemirror_mode": {
    "name": "ipython",
    "version": 3
   },
   "file_extension": ".py",
   "mimetype": "text/x-python",
   "name": "python",
   "nbconvert_exporter": "python",
   "pygments_lexer": "ipython3",
   "version": "3.12.1"
  }
 },
 "nbformat": 4,
 "nbformat_minor": 5
}
