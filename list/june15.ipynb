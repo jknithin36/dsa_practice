{
 "cells": [
  {
   "cell_type": "code",
   "execution_count": 4,
   "id": "e7211801",
   "metadata": {},
   "outputs": [
    {
     "name": "stdout",
     "output_type": "stream",
     "text": [
      "[0, 1]\n"
     ]
    }
   ],
   "source": [
    "# problem 1 - Two sum\n",
    "\n",
    "\n",
    "def two_sum(nums, target):\n",
    "    left =0\n",
    "\n",
    "    right =len(nums)-1\n",
    "\n",
    "    while left < right:\n",
    "        if nums[left] + nums[right] == target:\n",
    "            return [left, right]\n",
    "        elif nums[left]  + nums[right] < target:\n",
    "            left += 1\n",
    "        else:\n",
    "            right-=1\n",
    "    return []\n",
    "\n",
    "\n",
    "\n",
    "print(two_sum([2,7,11,15], 9))\n"
   ]
  },
  {
   "cell_type": "code",
   "execution_count": 5,
   "id": "84e14147",
   "metadata": {},
   "outputs": [
    {
     "name": "stdout",
     "output_type": "stream",
     "text": [
      "[0, 1]\n"
     ]
    }
   ],
   "source": [
    "def two_sum(nums, target):\n",
    "    obj = {}\n",
    "\n",
    "    for index, value in enumerate(nums):\n",
    "        needed = target - value\n",
    "        if needed in obj: \n",
    "            return [obj[needed], index]\n",
    "        \n",
    "        obj[value] = index\n",
    "\n",
    "\n",
    "print(two_sum([2,7,11,15], 9))\n"
   ]
  },
  {
   "cell_type": "code",
   "execution_count": 7,
   "id": "8f98c2ff",
   "metadata": {},
   "outputs": [
    {
     "name": "stdout",
     "output_type": "stream",
     "text": [
      "{'a': 'one', 'b': 'two', 'c': 'three'}\n",
      "three\n"
     ]
    }
   ],
   "source": [
    "d = {\"a\": \"one\", \"b\": \"two\"}\n",
    "\n",
    "\n",
    "d[\"c\"] = \"three\"\n",
    "\n",
    "\n",
    "print(d)\n",
    "\n",
    "print(d[\"c\"])"
   ]
  }
 ],
 "metadata": {
  "kernelspec": {
   "display_name": "Python 3",
   "language": "python",
   "name": "python3"
  },
  "language_info": {
   "codemirror_mode": {
    "name": "ipython",
    "version": 3
   },
   "file_extension": ".py",
   "mimetype": "text/x-python",
   "name": "python",
   "nbconvert_exporter": "python",
   "pygments_lexer": "ipython3",
   "version": "3.12.1"
  }
 },
 "nbformat": 4,
 "nbformat_minor": 5
}
