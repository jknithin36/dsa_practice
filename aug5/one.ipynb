{
 "cells": [
  {
   "cell_type": "code",
   "execution_count": null,
   "id": "75414895",
   "metadata": {},
   "outputs": [
    {
     "name": "stdout",
     "output_type": "stream",
     "text": [
      "8 3 1 6 4 7 10 14 13 "
     ]
    }
   ],
   "source": [
    "# Binary Tree\n",
    "\n",
    "\n",
    "\n",
    "class BinaryTreeNode:\n",
    "    def __init__(self, value):\n",
    "        self.value = value\n",
    "        self.left = None\n",
    "        self.right = None\n",
    "    \n",
    "\n",
    "\n",
    "\n",
    "\n",
    "\n",
    "bt = BinaryTreeNode(8)\n",
    "three = BinaryTreeNode(3)\n",
    "ten = BinaryTreeNode(10)\n",
    "bt.left = three\n",
    "bt.right = ten\n",
    "one = BinaryTreeNode(1)\n",
    "six = BinaryTreeNode(6)\n",
    "three.left = one\n",
    "three.right = six\n",
    "four = BinaryTreeNode(4)\n",
    "seven = BinaryTreeNode(7)\n",
    "six.left = four\n",
    "six.right = seven\n",
    "\n",
    "fourteen = BinaryTreeNode(14)\n",
    "ten.right = fourteen\n",
    "thirteen = BinaryTreeNode(13)\n",
    "fourteen.left = thirteen\n",
    "\n",
    "        \n",
    "\n",
    "\n",
    "\n",
    "\n",
    "def preOrder(root):\n",
    "    if not root:\n",
    "        return \n",
    "    print(root.value, end = \" \")\n",
    "    preOrder(root.left)\n",
    "    preOrder(root.right)\n",
    "\n",
    "    \n",
    "\n",
    "\n",
    "preOrder(bt)"
   ]
  },
  {
   "cell_type": "code",
   "execution_count": 3,
   "id": "89af950e",
   "metadata": {},
   "outputs": [
    {
     "name": "stdout",
     "output_type": "stream",
     "text": [
      "1 3 4 6 7 8 10 13 14 "
     ]
    }
   ],
   "source": [
    "def InOrderTraversal(root):\n",
    "    if not root:\n",
    "        return \n",
    "    InOrderTraversal(root.left)\n",
    "    print(root.value, end=\" \")\n",
    "    InOrderTraversal(root.right)\n",
    "\n",
    "\n",
    "InOrderTraversal(bt)"
   ]
  }
 ],
 "metadata": {
  "kernelspec": {
   "display_name": "Python 3",
   "language": "python",
   "name": "python3"
  },
  "language_info": {
   "codemirror_mode": {
    "name": "ipython",
    "version": 3
   },
   "file_extension": ".py",
   "mimetype": "text/x-python",
   "name": "python",
   "nbconvert_exporter": "python",
   "pygments_lexer": "ipython3",
   "version": "3.12.1"
  }
 },
 "nbformat": 4,
 "nbformat_minor": 5
}
