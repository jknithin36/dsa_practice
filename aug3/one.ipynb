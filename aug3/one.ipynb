{
 "cells": [
  {
   "cell_type": "code",
   "execution_count": 5,
   "id": "4ea66890",
   "metadata": {},
   "outputs": [
    {
     "name": "stdout",
     "output_type": "stream",
     "text": [
      "Drinks\n",
      "[<__main__.TreeNode object at 0x727702f82fc0>, <__main__.TreeNode object at 0x727702f826f0>]\n",
      "Cold\n",
      "Hot\n"
     ]
    }
   ],
   "source": [
    "class TreeNode:\n",
    "    def __init__(self, data, children=[]):\n",
    "        self.data = data\n",
    "        self.children = children\n",
    "\n",
    "    def add_Children(self,node):\n",
    "        self.children.append(node)\n",
    "\n",
    "\n",
    "Drinks = TreeNode(\"Drinks\")\n",
    "\n",
    "Cold = TreeNode(\"Cold\")\n",
    "\n",
    "Hot = TreeNode(\"Hot\")\n",
    "\n",
    "\n",
    "Drinks.add_Children(Cold)\n",
    "Drinks.add_Children(Hot)\n",
    "\n",
    "print(Drinks.data)\n",
    "print(Drinks.children)\n",
    "print(Drinks.children[0].data)\n",
    "print(Drinks.children[1].data)"
   ]
  },
  {
   "cell_type": "code",
   "execution_count": 8,
   "id": "54e150c6",
   "metadata": {},
   "outputs": [
    {
     "name": "stdout",
     "output_type": "stream",
     "text": [
      "Tea Hot Coffee Drinks Non_Alholic Cold Alcholic "
     ]
    }
   ],
   "source": [
    "class BinaryTreeNode:\n",
    "    def __init__(self,data):\n",
    "        self.data = data\n",
    "        self.left = None\n",
    "        self.right = None\n",
    "\n",
    "\n",
    "\n",
    "Drinks = BinaryTreeNode(\"Drinks\")\n",
    "Hot = BinaryTreeNode(\"Hot\")\n",
    "Cold = BinaryTreeNode(\"Cold\")\n",
    "Coffee = BinaryTreeNode(\"Coffee\")\n",
    "Tea = BinaryTreeNode(\"Tea\")\n",
    "Alcholic = BinaryTreeNode(\"Alcholic\")\n",
    "Non_Alholic = BinaryTreeNode(\"Non_Alholic\")\n",
    "\n",
    "Drinks.left = Hot\n",
    "Drinks.right = Cold\n",
    "Hot.left = Tea\n",
    "Hot.right = Coffee\n",
    "Cold.right = Alcholic\n",
    "Cold.left = Non_Alholic\n",
    "\n",
    "\n",
    "\n",
    "def inOrder(root):\n",
    "    if root is None:\n",
    "        return\n",
    "    inOrder(root.left)\n",
    "    print(root.data, end=\" \")\n",
    "    inOrder(root.right)\n",
    "\n",
    "\n",
    "\n",
    "inOrder(Drinks)\n",
    "        "
   ]
  },
  {
   "cell_type": "code",
   "execution_count": null,
   "id": "043be06b",
   "metadata": {},
   "outputs": [],
   "source": []
  }
 ],
 "metadata": {
  "kernelspec": {
   "display_name": "Python 3",
   "language": "python",
   "name": "python3"
  },
  "language_info": {
   "codemirror_mode": {
    "name": "ipython",
    "version": 3
   },
   "file_extension": ".py",
   "mimetype": "text/x-python",
   "name": "python",
   "nbconvert_exporter": "python",
   "pygments_lexer": "ipython3",
   "version": "3.12.1"
  }
 },
 "nbformat": 4,
 "nbformat_minor": 5
}
