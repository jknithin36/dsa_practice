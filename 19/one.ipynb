{
 "cells": [
  {
   "cell_type": "code",
   "execution_count": 1,
   "id": "ce3c8ee7",
   "metadata": {},
   "outputs": [
    {
     "name": "stdout",
     "output_type": "stream",
     "text": [
      "Hello\n"
     ]
    }
   ],
   "source": [
    "print(\"Hello\")"
   ]
  },
  {
   "cell_type": "code",
   "execution_count": null,
   "id": "ee71855f",
   "metadata": {},
   "outputs": [],
   "source": []
  },
  {
   "cell_type": "code",
   "execution_count": null,
   "id": "f4197705",
   "metadata": {},
   "outputs": [
    {
     "name": "stdout",
     "output_type": "stream",
     "text": [
      "[1, 2, 3, 4, 5]\n",
      "['H', 'e', 'l', 'l', 'o']\n",
      "[1, 2, 3, 4, 5]\n",
      "[1, 2, 3, 4, 5]\n",
      "[0, 1, 4, 9]\n"
     ]
    }
   ],
   "source": [
    "# woring wth list\n",
    "# create \n",
    "\n",
    "x = [1,2,3,4,5]\n",
    "print(x)\n",
    "\n",
    "\n",
    "y = list(\"Hello\")\n",
    "print(y)\n",
    "\n",
    "z = list((1,2,3,4,5))\n",
    "print(z)\n",
    "\n",
    "l = list({1,2,3,4,5})\n",
    "print(l)\n",
    "\n",
    "\n",
    "# usig comphershsion\n",
    "\n",
    "c = [x*x for x in range(4)]\n",
    "print(c)\n",
    "\n",
    "\n",
    "\n"
   ]
  },
  {
   "cell_type": "code",
   "execution_count": null,
   "id": "fa311099",
   "metadata": {},
   "outputs": [],
   "source": []
  },
  {
   "cell_type": "code",
   "execution_count": 11,
   "id": "6323bf65",
   "metadata": {},
   "outputs": [
    {
     "name": "stdout",
     "output_type": "stream",
     "text": [
      "apple\n",
      "banana\n",
      "Cheeries\n",
      "sopota\n"
     ]
    }
   ],
   "source": [
    "# accessing Elements \n",
    "\n",
    "fruits = [\"apple\", \"banana\", \"Cheeries\", \"sopota\"]\n",
    "\n",
    "print(fruits[0])\n",
    "\n",
    "print(fruits[1])\n",
    "print(fruits[2])\n",
    "print(fruits[3])\n",
    "\n",
    "# print(fruits[4])\n",
    "\n"
   ]
  },
  {
   "cell_type": "code",
   "execution_count": 15,
   "id": "c3f01216",
   "metadata": {},
   "outputs": [
    {
     "name": "stdout",
     "output_type": "stream",
     "text": [
      "sopota\n",
      "Cheeries\n",
      "banana\n"
     ]
    }
   ],
   "source": [
    "# negative Indexes\n",
    "\n",
    "print(fruits[-1])\n",
    "print(fruits[-2])\n",
    "print(fruits[-3])"
   ]
  },
  {
   "cell_type": "code",
   "execution_count": 20,
   "id": "7c8a2658",
   "metadata": {},
   "outputs": [
    {
     "name": "stdout",
     "output_type": "stream",
     "text": [
      "['apple', 'banana', 'Cheeries', 'sopota']\n",
      "['Cheeries', 'sopota']\n",
      "['sopota', 'Cheeries', 'banana', 'apple']\n",
      "['Cheeries', 'sopota']\n",
      "['apple', 'Cheeries']\n"
     ]
    }
   ],
   "source": [
    "# sclicing \n",
    "\n",
    "\n",
    "print(fruits[:len(fruits)])\n",
    "\n",
    "print(fruits[2:4])\n",
    "\n",
    "print(fruits[::-1])\n",
    "\n",
    "print(fruits[2:])\n",
    "\n",
    "print(fruits[::2])\n"
   ]
  },
  {
   "cell_type": "code",
   "execution_count": null,
   "id": "c48b374f",
   "metadata": {},
   "outputs": [
    {
     "name": "stdout",
     "output_type": "stream",
     "text": [
      "['Ferrai', 'AUDI', 'BENZ']\n"
     ]
    }
   ],
   "source": [
    "cars =[\"BMW\", \"AUDI\",\"BENZ\"]\n",
    "\n",
    "cars[0] = \"Ferrai\"\n",
    "\n",
    "print(cars)\n",
    "\n",
    "# we can also update with slicing \n",
    "\n",
    "\n",
    "\n"
   ]
  },
  {
   "cell_type": "code",
   "execution_count": null,
   "id": "24985f05",
   "metadata": {},
   "outputs": [
    {
     "name": "stdout",
     "output_type": "stream",
     "text": [
      "['apple', 'banana', 'Mango']\n",
      "['nithin', 'apple', 'banana', 'Mango']\n",
      "['nithin', 'apple', 'banana', 'Mango', 'Shiva', 'Abhi']\n",
      "['apple', 'banana', 'Mango', 'Shiva', 'Abhi']\n",
      "['banana', 'Mango', 'Shiva', 'Abhi']\n",
      "['banana', 'Mango', 'Shiva', 'Abhi']\n",
      "['Mango', 'Shiva', 'Abhi']\n",
      "['Mango']\n"
     ]
    }
   ],
   "source": [
    "# append - add at end\n",
    "\n",
    "fruits = [\"apple\", \"banana\"]\n",
    "\n",
    "fruits.append(\"Mango\")\n",
    "\n",
    "print(fruits)\n",
    "\n",
    "# insert at Specific position\n",
    "\n",
    "fruits.insert(0, \"nithin\")\n",
    "\n",
    "print(fruits)\n",
    "\n",
    "\n",
    "fruits.extend([\"Shiva\", \"Abhi\"])\n",
    "\n",
    "print(fruits)\n",
    "\n",
    "\n",
    "# removing elemnts \n",
    "\n",
    "fruits.remove(\"nithin\")\n",
    "print(fruits)\n",
    "\n",
    "fruits.pop(0)\n",
    "print(fruits)\n",
    "\n",
    "# fruits.clear()\n",
    "print(fruits)\n",
    "\n",
    "# using del method \n",
    "\n",
    "del fruits[0]\n",
    "print(fruits)\n",
    "\n",
    "del fruits[1:3]\n",
    "print(fruits)\n",
    "\n",
    "\n"
   ]
  },
  {
   "cell_type": "code",
   "execution_count": 34,
   "id": "cb623ac2",
   "metadata": {},
   "outputs": [
    {
     "name": "stdout",
     "output_type": "stream",
     "text": [
      "[1, 2, 3, 4]\n"
     ]
    }
   ],
   "source": [
    "# list Operations\n",
    "\n",
    "a =[1,2]\n",
    "b=[3,4]\n",
    "c = a+b\n",
    "print(c)"
   ]
  },
  {
   "cell_type": "code",
   "execution_count": 36,
   "id": "71642944",
   "metadata": {},
   "outputs": [
    {
     "name": "stdout",
     "output_type": "stream",
     "text": [
      "[1, 3, 4, 1, 3, 4, 1, 3, 4]\n"
     ]
    }
   ],
   "source": [
    "print([1,3,4]* 3)"
   ]
  },
  {
   "cell_type": "code",
   "execution_count": 38,
   "id": "95003c5c",
   "metadata": {},
   "outputs": [
    {
     "name": "stdout",
     "output_type": "stream",
     "text": [
      "True\n",
      "True\n"
     ]
    }
   ],
   "source": [
    "# in operator\n",
    "\n",
    "fruits = [\"apple\", \"banana\", \"cherry\"]\n",
    "\n",
    "\n",
    "print(\"apple\" in fruits)\n",
    "\n",
    "print(\"Sopato\" not in fruits)"
   ]
  },
  {
   "cell_type": "code",
   "execution_count": 41,
   "id": "5360d32b",
   "metadata": {},
   "outputs": [
    {
     "name": "stdout",
     "output_type": "stream",
     "text": [
      "3\n",
      "1\n",
      "9\n"
     ]
    }
   ],
   "source": [
    "print(len(fruits))\n",
    "\n",
    "numbers = [4, 2, 9, 1]\n",
    "\n",
    "print(min(numbers))\n",
    "print(max(numbers))"
   ]
  },
  {
   "cell_type": "code",
   "execution_count": 42,
   "id": "72f43121",
   "metadata": {},
   "outputs": [
    {
     "name": "stdout",
     "output_type": "stream",
     "text": [
      "16\n"
     ]
    }
   ],
   "source": [
    "print(sum(numbers))"
   ]
  },
  {
   "cell_type": "code",
   "execution_count": 47,
   "id": "bdf5bf50",
   "metadata": {},
   "outputs": [
    {
     "name": "stdout",
     "output_type": "stream",
     "text": [
      "[1, 2, 3, 4]\n",
      "[1, 2, 3, 4]\n"
     ]
    }
   ],
   "source": [
    "# sorted returns a new list , sort in place \n",
    "\n",
    "nums = [3, 1, 4, 2]\n",
    "\n",
    "l =  sorted(nums)\n",
    "\n",
    "print(l)\n",
    "\n",
    "\n",
    "nums.sort()\n",
    "print(nums)"
   ]
  },
  {
   "cell_type": "code",
   "execution_count": 48,
   "id": "fff22830",
   "metadata": {},
   "outputs": [
    {
     "name": "stdout",
     "output_type": "stream",
     "text": [
      "apple\n",
      "banana\n",
      "cherry\n"
     ]
    }
   ],
   "source": [
    "# loops -> Three ways (for with in , range , while)\n",
    "\n",
    "fruits = [\"apple\", \"banana\", \"cherry\"]\n",
    "\n",
    "for i in fruits:\n",
    "    print(i)"
   ]
  },
  {
   "cell_type": "code",
   "execution_count": 50,
   "id": "dece4bfd",
   "metadata": {},
   "outputs": [
    {
     "name": "stdout",
     "output_type": "stream",
     "text": [
      "apple\n",
      "banana\n",
      "cherry\n"
     ]
    }
   ],
   "source": [
    "for i in range(len(fruits)):\n",
    "    print(fruits[i])"
   ]
  },
  {
   "cell_type": "code",
   "execution_count": 51,
   "id": "8dddcfd4",
   "metadata": {},
   "outputs": [
    {
     "name": "stdout",
     "output_type": "stream",
     "text": [
      "0 apple\n",
      "1 banana\n",
      "2 cherry\n"
     ]
    }
   ],
   "source": [
    "for i, val in enumerate(fruits):\n",
    "    print(i, val)"
   ]
  },
  {
   "cell_type": "code",
   "execution_count": 52,
   "id": "2b48110c",
   "metadata": {},
   "outputs": [
    {
     "name": "stdout",
     "output_type": "stream",
     "text": [
      "apple\n",
      "banana\n",
      "cherry\n"
     ]
    }
   ],
   "source": [
    "i =0 \n",
    "\n",
    "while i< len(fruits):\n",
    "    print(fruits[i])\n",
    "    i+=1"
   ]
  },
  {
   "cell_type": "code",
   "execution_count": 53,
   "id": "e4e568e7",
   "metadata": {},
   "outputs": [
    {
     "name": "stdout",
     "output_type": "stream",
     "text": [
      "['apple', 'banana', 'cherry']\n"
     ]
    }
   ],
   "source": [
    "x = [ fruit for fruit in fruits]\n",
    "print(x)"
   ]
  },
  {
   "cell_type": "code",
   "execution_count": 54,
   "id": "d1ccf6cd",
   "metadata": {},
   "outputs": [
    {
     "name": "stdout",
     "output_type": "stream",
     "text": [
      "False\n"
     ]
    }
   ],
   "source": [
    "a = [0,0,0]\n",
    "print(any(a))"
   ]
  },
  {
   "cell_type": "code",
   "execution_count": 56,
   "id": "3a9943fa",
   "metadata": {},
   "outputs": [
    {
     "name": "stdout",
     "output_type": "stream",
     "text": [
      "True\n",
      "False\n"
     ]
    }
   ],
   "source": [
    "b =[0,0,1]\n",
    "print(any(b))\n",
    "print(all(b))"
   ]
  },
  {
   "cell_type": "code",
   "execution_count": 57,
   "id": "c4eb87ae",
   "metadata": {},
   "outputs": [
    {
     "name": "stdout",
     "output_type": "stream",
     "text": [
      "True\n"
     ]
    }
   ],
   "source": [
    "values = [1, 2, 3]\n",
    "\n",
    "print(all(values))"
   ]
  },
  {
   "cell_type": "code",
   "execution_count": 60,
   "id": "68be48c8",
   "metadata": {},
   "outputs": [
    {
     "name": "stdout",
     "output_type": "stream",
     "text": [
      "Alice : 90\n",
      "Bob : 85\n",
      "Charlie : 92\n"
     ]
    }
   ],
   "source": [
    "# zip function\n",
    "\n",
    "names = [\"Alice\", \"Bob\", \"Charlie\"]\n",
    "scores = [90, 85, 92]\n",
    "\n",
    "\n",
    "for name,score in zip(names, scores):\n",
    "    print(name,\":\", score)"
   ]
  },
  {
   "cell_type": "code",
   "execution_count": 63,
   "id": "4939da0d",
   "metadata": {},
   "outputs": [
    {
     "name": "stdout",
     "output_type": "stream",
     "text": [
      "['Orange', 'apple', 'banana', 'Mango']\n"
     ]
    }
   ],
   "source": [
    "# list methods\n",
    "\n",
    "fruits = [\"apple\", \"banana\"]\n",
    "\n",
    "\n",
    "fruits.append(\"Mango\")\n",
    "fruits.insert(0, \"Orange\")\n",
    "\n",
    "print(fruits)"
   ]
  },
  {
   "cell_type": "code",
   "execution_count": 66,
   "id": "e5fa073e",
   "metadata": {},
   "outputs": [
    {
     "name": "stdout",
     "output_type": "stream",
     "text": [
      "[10, 20, [30, 40], 30, 40]\n"
     ]
    }
   ],
   "source": [
    "numbers = [10, 20]\n",
    "numbers.append([30, 40])\n",
    "numbers.extend([30, 40])\n",
    "\n",
    "print(numbers)\n"
   ]
  },
  {
   "cell_type": "code",
   "execution_count": 69,
   "id": "a089807f",
   "metadata": {},
   "outputs": [
    {
     "name": "stdout",
     "output_type": "stream",
     "text": [
      "0\n",
      "3\n"
     ]
    }
   ],
   "source": [
    "# index method --> return the index of value (first occurance)\n",
    "\n",
    "fruits = [\"apple\", \"banana\", \"cherry\", \"banana\"]\n",
    "\n",
    "\n",
    "print(fruits.index(\"apple\"))\\\n",
    "\n",
    "print(fruits.index(\"banana\", 2))\n"
   ]
  },
  {
   "cell_type": "code",
   "execution_count": 70,
   "id": "941dec02",
   "metadata": {},
   "outputs": [
    {
     "name": "stdout",
     "output_type": "stream",
     "text": [
      "3\n"
     ]
    }
   ],
   "source": [
    "nums = [1, 2, 3, 2, 2, 4, 5]\n",
    "\n",
    "print(nums.count(2))"
   ]
  },
  {
   "cell_type": "code",
   "execution_count": 72,
   "id": "2cffe4ce",
   "metadata": {},
   "outputs": [
    {
     "name": "stdout",
     "output_type": "stream",
     "text": [
      "1\n",
      "0\n"
     ]
    }
   ],
   "source": [
    "print(nums.count(4))\n",
    "\n",
    "print(nums.count(9))"
   ]
  },
  {
   "cell_type": "code",
   "execution_count": 76,
   "id": "9526ee63",
   "metadata": {},
   "outputs": [
    {
     "name": "stdout",
     "output_type": "stream",
     "text": [
      "[1, 2, 3, 4]\n",
      "[4, 3, 2, 1]\n",
      "['kiwi', 'apple', 'mango', 'banana']\n"
     ]
    }
   ],
   "source": [
    "# sort --> in place\n",
    "nums = [4,3,2,1]\n",
    "nums.sort()\n",
    "print(nums)\n",
    "\n",
    "nums.sort(reverse=True)\n",
    "print(nums)\n",
    "\n",
    "\n",
    "words = [\"apple\", \"banana\", \"kiwi\", \"mango\"]\n",
    "\n",
    "\n",
    "words.sort(key=len)\n",
    "print(words)"
   ]
  },
  {
   "cell_type": "code",
   "execution_count": 80,
   "id": "4fdd2af6",
   "metadata": {},
   "outputs": [
    {
     "name": "stdout",
     "output_type": "stream",
     "text": [
      "[4, 3, 2, 1]\n",
      "[4, 3, 2, 1]\n",
      "[4, 3, 2, 1]\n"
     ]
    }
   ],
   "source": [
    "nums = [1, 2, 3, 4]\n",
    "nums.reverse()\n",
    "print(nums)\n",
    "\n",
    "c = nums.copy()\n",
    "print(c)\n",
    "\n",
    "d = list(nums)\n",
    "print(d)"
   ]
  },
  {
   "cell_type": "code",
   "execution_count": 85,
   "id": "5eee57e1",
   "metadata": {},
   "outputs": [
    {
     "name": "stdout",
     "output_type": "stream",
     "text": [
      "[1, 2, 3]\n",
      "[4, 5, 6]\n",
      "[7, 8, 9]\n",
      "1\n"
     ]
    }
   ],
   "source": [
    "matrix = [\n",
    "    [1,2,3],\n",
    "    [4,5,6],\n",
    "    [7,8,9]\n",
    "]\n",
    "\n",
    "\n",
    "print(matrix[0])\n",
    "print(matrix[1])\n",
    "print(matrix[2])\n",
    "\n",
    "\n",
    "print(matrix[0][0])"
   ]
  },
  {
   "cell_type": "code",
   "execution_count": 87,
   "id": "c51400c9",
   "metadata": {},
   "outputs": [
    {
     "name": "stdout",
     "output_type": "stream",
     "text": [
      "[1, 100, 3]\n",
      "[1, 100, 3]\n",
      "[4, 5, 6]\n",
      "[7, 8, 9]\n"
     ]
    }
   ],
   "source": [
    "# modify \n",
    "\n",
    "matrix[0][1] = 100\n",
    "\n",
    "print(matrix[0])\n",
    "\n",
    "# loop \n",
    "\n",
    "for row in matrix:\n",
    "    print(row)"
   ]
  },
  {
   "cell_type": "code",
   "execution_count": 89,
   "id": "2f71122e",
   "metadata": {},
   "outputs": [
    {
     "name": "stdout",
     "output_type": "stream",
     "text": [
      "1 100 3 \n",
      "4 5 6 \n",
      "7 8 9 \n"
     ]
    }
   ],
   "source": [
    "for row in matrix:\n",
    "    for val in row:\n",
    "        print(val, end =\" \")\n",
    "    print(\"\")"
   ]
  },
  {
   "cell_type": "code",
   "execution_count": 6,
   "id": "41cdcb0c",
   "metadata": {},
   "outputs": [
    {
     "name": "stdout",
     "output_type": "stream",
     "text": [
      "[1, 2, 3, 4, 5, 6, 7, 8, 9]\n"
     ]
    }
   ],
   "source": [
    "\n",
    "matrix = [\n",
    "    [1,2,3],\n",
    "    [4,5,6],\n",
    "    [7,8,9]\n",
    "]\n",
    "\n",
    "j = [x for row in matrix for x in row]\n",
    "\n",
    "print(j)\n",
    "\n"
   ]
  },
  {
   "cell_type": "code",
   "execution_count": 8,
   "id": "50032bec",
   "metadata": {},
   "outputs": [
    {
     "name": "stdout",
     "output_type": "stream",
     "text": [
      "[4, 3, 2, 1]\n",
      "[1, 2, 3, 4]\n"
     ]
    }
   ],
   "source": [
    "# patterns and question\n",
    "# reverse alist \n",
    "\n",
    "li = [1,2,3,4]\n",
    "li.reverse()\n",
    "print(li)\n",
    "\n",
    "b = li[::-1]\n",
    "print(b)\n"
   ]
  },
  {
   "cell_type": "code",
   "execution_count": 9,
   "id": "ebc34c0c",
   "metadata": {},
   "outputs": [
    {
     "name": "stdout",
     "output_type": "stream",
     "text": [
      "4\n",
      "1\n"
     ]
    }
   ],
   "source": [
    "# find largest and smallest value \n",
    "\n",
    "print(max(li))\n",
    "print(min(li))"
   ]
  },
  {
   "cell_type": "code",
   "execution_count": 12,
   "id": "129013ac",
   "metadata": {},
   "outputs": [
    {
     "name": "stdout",
     "output_type": "stream",
     "text": [
      "[1, 2]\n",
      "{1, 2, 3, 4, 5}\n"
     ]
    }
   ],
   "source": [
    "nums = [1, 2, 3, 2, 4, 1, 5]\n",
    "duplicates = [x for x in set(nums) if nums.count(x) > 1]\n",
    "print(duplicates)  \n",
    "\n",
    "print(set(nums))\n"
   ]
  },
  {
   "cell_type": "code",
   "execution_count": null,
   "id": "7b58f316",
   "metadata": {},
   "outputs": [],
   "source": []
  },
  {
   "cell_type": "code",
   "execution_count": 8,
   "id": "31197cd1",
   "metadata": {},
   "outputs": [
    {
     "name": "stdout",
     "output_type": "stream",
     "text": [
      "Drinks\n",
      "Hot\n",
      "['Drinks', 'Hot', 'Cold', 'Coffee', 'Tea', 'Pepsi', 'Coke']\n",
      "['Drinks', 'Cold', 'Hot', 'Coke', 'Pepsi', 'Tea', 'Coffee']\n"
     ]
    }
   ],
   "source": [
    "class BinaryTree:\n",
    "    def __init__(self, value):\n",
    "        self.value = value\n",
    "        self.right = None\n",
    "        self.left = None\n",
    "\n",
    "\n",
    "\n",
    "Acme = BinaryTree(\"Drinks\")\n",
    "Acme.left = BinaryTree(\"Hot\")\n",
    "Acme.right = BinaryTree(\"Cold\")\n",
    "Acme.left.left = BinaryTree(\"Coffee\")\n",
    "Acme.left.right = BinaryTree(\"Tea\")\n",
    "Acme.right.left = BinaryTree(\"Pepsi\")\n",
    "Acme.right.right = BinaryTree(\"Coke\")\n",
    "\n",
    "\n",
    "print(Acme.value)\n",
    "\n",
    "print(Acme.left.value)\n",
    "\n",
    "\n",
    "\n",
    "def level_order(rootNode):\n",
    "    if not rootNode: \n",
    "        return []\n",
    "    result =[]\n",
    "    \n",
    "    from collections import deque\n",
    "\n",
    "    queue = deque([rootNode])\n",
    "\n",
    "    while queue:\n",
    "        current = queue.popleft()\n",
    "        result.append(current.value)\n",
    "        if current.left:\n",
    "            queue.append(current.left)\n",
    "        if current.right:\n",
    "            queue.append(current.right)\n",
    "    return result\n",
    "\n",
    "\n",
    "\n",
    "print(level_order(Acme))\n",
    "\n",
    "\n",
    "def inverse_binaryTree(rootNode):\n",
    "    if not rootNode:\n",
    "        return []\n",
    "    \n",
    "    rootNode.left, rootNode.right = rootNode.right, rootNode.left\n",
    "\n",
    "    inverse_binaryTree(rootNode.left)\n",
    "    inverse_binaryTree(rootNode.right)\n",
    "\n",
    "    return rootNode\n",
    "\n",
    "\n",
    "\n",
    "\n",
    "a  = inverse_binaryTree(Acme)\n",
    "\n",
    "print(level_order(a))\n",
    "    \n",
    "\n",
    "\n"
   ]
  }
 ],
 "metadata": {
  "kernelspec": {
   "display_name": "Python 3",
   "language": "python",
   "name": "python3"
  },
  "language_info": {
   "codemirror_mode": {
    "name": "ipython",
    "version": 3
   },
   "file_extension": ".py",
   "mimetype": "text/x-python",
   "name": "python",
   "nbconvert_exporter": "python",
   "pygments_lexer": "ipython3",
   "version": "3.12.1"
  }
 },
 "nbformat": 4,
 "nbformat_minor": 5
}
