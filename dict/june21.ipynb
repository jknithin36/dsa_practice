{
 "cells": [
  {
   "cell_type": "code",
   "execution_count": 20,
   "id": "db3be5b4",
   "metadata": {},
   "outputs": [
    {
     "name": "stdout",
     "output_type": "stream",
     "text": [
      "{1: 'Nithin', 2: 'Shiva', 3: 'Abhi', 4: 'varun', 5: 'Shyam'}\n",
      "Nithin\n",
      "1\n",
      "2\n",
      "3\n",
      "4\n",
      "5\n",
      "[1, 'Nithin']\n",
      "[2, 'Shiva']\n",
      "[3, 'Abhi']\n",
      "[4, 'varun']\n",
      "[5, 'Shyam']\n",
      "{'hello': 'Hola', 'train': 'tran', 'car': 'auto', 'country': 'pias'}\n",
      "{'hello': 'Hola', 'train': 'tran', 'car': 'auto', 'country': 'pias'}\n",
      "{'one': 'one'}\n",
      "{'one': 'one', 'two': 'Two'}\n",
      "{'one': 'one', 'two': 'Two', 3: 'Two'}\n"
     ]
    }
   ],
   "source": [
    "my_dict = {\n",
    "    1: \"Nithin\",\n",
    "    2: \"Shiva\",\n",
    "    3: \"Abhi\",\n",
    "    4: \"varun\",\n",
    "    5:\"Shyam\"\n",
    "}\n",
    "\n",
    "print(my_dict)\n",
    "print(my_dict[1])\n",
    "\n",
    "for i in my_dict:\n",
    "    print(i)\n",
    "\n",
    "for i in my_dict:\n",
    "    print([i, my_dict[i]])\n",
    "\n",
    "\n",
    "\n",
    "\n",
    "# mutable cllections \n",
    "\n",
    "# implemented using hashtable \n",
    "\n",
    "\n",
    "\n",
    "con_dict = dict(hello=\"Hola\", train= \"tran\",car=\"auto\", country=\"pias\")\n",
    "print(con_dict)\n",
    "s_dict = {\"hello\":\"Hola\", \"train\":\"tran\",\"car\":\"auto\", \"country\":\"pias\"}\n",
    "print(s_dict)\n",
    "\n",
    "\n",
    "\n",
    "#  {\"key\": \"Value\"} Pairs\n",
    "\n",
    "# creation - O(1), O(1)\n",
    "\n",
    "\n",
    "\n",
    "\n",
    "\n",
    "eng_to_sp= dict(one=\"one\")\n",
    "\n",
    "print(eng_to_sp)\n",
    "\n",
    "eng_to_sp[\"two\"] = \"Two\"\n",
    "print(eng_to_sp)\n",
    "\n",
    "eng_to_sp[3] = \"Two\"\n",
    "print(eng_to_sp)\n",
    "\n"
   ]
  },
  {
   "cell_type": "code",
   "execution_count": null,
   "id": "3196f2f8",
   "metadata": {},
   "outputs": [],
   "source": []
  }
 ],
 "metadata": {
  "kernelspec": {
   "display_name": "Python 3",
   "language": "python",
   "name": "python3"
  },
  "language_info": {
   "codemirror_mode": {
    "name": "ipython",
    "version": 3
   },
   "file_extension": ".py",
   "mimetype": "text/x-python",
   "name": "python",
   "nbconvert_exporter": "python",
   "pygments_lexer": "ipython3",
   "version": "3.12.1"
  }
 },
 "nbformat": 4,
 "nbformat_minor": 5
}
