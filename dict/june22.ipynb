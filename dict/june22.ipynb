{
 "cells": [
  {
   "cell_type": "code",
   "execution_count": 23,
   "id": "86d788a0",
   "metadata": {},
   "outputs": [
    {
     "name": "stdout",
     "output_type": "stream",
     "text": [
      "{'one': 'one', 'two': 'two'}\n",
      "['one', 'two', 'three']\n",
      "{'one': 'one', 'two': 'two', 'three': 'three'}\n",
      "one\n",
      "two\n",
      "three\n",
      "-----\n",
      "dict_items([('one', 'one'), ('two', 'two'), ('three', 'three')])\n",
      "('one', 'one')\n",
      "('two', 'two')\n",
      "('three', 'three')\n",
      "{'one': 'one', 'two': 'two', 'three': 'three'}\n",
      "one\n"
     ]
    }
   ],
   "source": [
    "a = dict(one=\"one\", two =\"two\")\n",
    "print(a)\n",
    "\n",
    "\n",
    "a[\"three\"] = \"three\"\n",
    "\n",
    "\n",
    "b = list(a.keys())\n",
    "c=list(a.values())\n",
    "d=a.items()\n",
    "\n",
    "\n",
    "e ={}\n",
    "print(b)\n",
    "for i in range(len(b)):\n",
    "    e[b[i]] = c[i] \n",
    "\n",
    "print(e)\n",
    "    \n",
    "\n",
    "for i in c:\n",
    "    print(i)\n",
    "\n",
    "print(\"-----\")\n",
    "\n",
    "print(d)\n",
    "\n",
    "for i in d:\n",
    "    print(i)\n",
    "\n",
    "f = dict(d)\n",
    "print(f)\n",
    "\n",
    "\n",
    "print(f.get(\"one\"))\n"
   ]
  },
  {
   "cell_type": "code",
   "execution_count": 26,
   "id": "f59963b8",
   "metadata": {},
   "outputs": [
    {
     "name": "stdout",
     "output_type": "stream",
     "text": [
      "3 5 7 10 20 "
     ]
    }
   ],
   "source": [
    "class Node:\n",
    "    def __init__(self,value):\n",
    "        self.value = value\n",
    "        self.left =None\n",
    "        self.right = None\n",
    "\n",
    "\n",
    "\n",
    "\n",
    "# Create nodes\n",
    "root = Node(10)\n",
    "root.left = Node(5)\n",
    "root.right = Node(20)\n",
    "root.left.left = Node(3)\n",
    "root.left.right = Node(7)\n",
    "\n",
    "\n",
    "def inorder(node):\n",
    "    if node:\n",
    "        inorder(node.left)\n",
    "        print(node.value, end=\" \")\n",
    "        inorder(node.right)\n",
    "\n",
    "inorder(root)\n",
    "\n",
    "\n"
   ]
  }
 ],
 "metadata": {
  "kernelspec": {
   "display_name": "Python 3",
   "language": "python",
   "name": "python3"
  },
  "language_info": {
   "codemirror_mode": {
    "name": "ipython",
    "version": 3
   },
   "file_extension": ".py",
   "mimetype": "text/x-python",
   "name": "python",
   "nbconvert_exporter": "python",
   "pygments_lexer": "ipython3",
   "version": "3.12.1"
  }
 },
 "nbformat": 4,
 "nbformat_minor": 5
}
