{
 "cells": [
  {
   "cell_type": "code",
   "execution_count": null,
   "id": "357f3f86",
   "metadata": {},
   "outputs": [
    {
     "ename": "",
     "evalue": "",
     "output_type": "error",
     "traceback": [
      "\u001b[1;31mRunning cells with 'Python 3.13.2' requires the ipykernel package.\n",
      "\u001b[1;31m<a href='command:jupyter.createPythonEnvAndSelectController'>Create a Python Environment</a> with the required packages.\n",
      "\u001b[1;31mOr install 'ipykernel' using the command: '/opt/homebrew/bin/python3 -m pip install ipykernel -U --user --force-reinstall'"
     ]
    }
   ],
   "source": [
    "def coin_change(arr, target):\n",
    "  if not arr:\n",
    "    return\n",
    "  \n",
    "  arr.sort()\n",
    "\n",
    "  result = []\n",
    "  value = target\n",
    "\n",
    "  closest_value = min(arr, key=lambda x: abs(x - value))\n",
    "\n",
    "  if closest_value ==value:\n",
    "    result.append(closest_value)\n",
    "    return\n",
    "  elif closest_value < value:\n",
    "    result.append(closest_value)\n",
    "    value = value - closest_value\n",
    "\n",
    "    \n",
    "\n",
    "    \n",
    "    \n",
    "    \n",
    "    \n"
   ]
  },
  {
   "cell_type": "code",
   "execution_count": null,
   "id": "97585ef6",
   "metadata": {},
   "outputs": [
    {
     "ename": "",
     "evalue": "",
     "output_type": "error",
     "traceback": [
      "\u001b[1;31mRunning cells with 'Python 3.13.2' requires the ipykernel package.\n",
      "\u001b[1;31m<a href='command:jupyter.createPythonEnvAndSelectController'>Create a Python Environment</a> with the required packages.\n",
      "\u001b[1;31mOr install 'ipykernel' using the command: '/opt/homebrew/bin/python3 -m pip install ipykernel -U --user --force-reinstall'"
     ]
    }
   ],
   "source": [
    "arr = [1,2,5,10]\n",
    "n= len(arr)\n",
    "\n",
    "for i in range(n-1, -1, -1):\n",
    "  print(arr[i])"
   ]
  }
 ],
 "metadata": {
  "kernelspec": {
   "display_name": "Python 3",
   "language": "python",
   "name": "python3"
  },
  "language_info": {
   "name": "python",
   "version": "3.13.2"
  }
 },
 "nbformat": 4,
 "nbformat_minor": 5
}
